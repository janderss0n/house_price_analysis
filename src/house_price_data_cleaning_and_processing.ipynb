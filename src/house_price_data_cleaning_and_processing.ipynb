{
 "cells": [
  {
   "cell_type": "code",
   "execution_count": 159,
   "metadata": {},
   "outputs": [],
   "source": [
    "import pandas as pd\n",
    "import matplotlib.pyplot as plt\n",
    "import scipy.stats as stats\n",
    "import seaborn as sns\n",
    "import numpy as np\n",
    "from sklearn.metrics import mean_squared_log_error\n",
    "from sklearn.neighbors import KNeighborsRegressor\n",
    "from sklearn.metrics import r2_score\n",
    "from sklearn.preprocessing import MinMaxScaler\n",
    "from sklearn.ensemble import BaggingRegressor\n",
    "from sklearn.linear_model import Ridge"
   ]
  },
  {
   "cell_type": "code",
   "execution_count": 111,
   "metadata": {},
   "outputs": [],
   "source": [
    "train_data = pd.read_csv('../data/train.csv', delimiter=',').drop(['Id'], axis=1)"
   ]
  },
  {
   "cell_type": "code",
   "execution_count": 112,
   "metadata": {},
   "outputs": [],
   "source": [
    "def split_target_numerical_and_categorical_columns(df, target_name):\n",
    "    target_column = train_data[target_name]\n",
    "    numerical_columns = train_data.drop(columns=[target_name]).select_dtypes(include=[np.number])\n",
    "    categorical_columns = train_data.drop(columns=[target_name]).select_dtypes(exclude=[np.number])\n",
    "    return target_column, numerical_columns, categorical_columns"
   ]
  },
  {
   "cell_type": "code",
   "execution_count": 113,
   "metadata": {},
   "outputs": [],
   "source": [
    "def one_hot_encode_categorical_data(categorical_data):\n",
    "    return pd.get_dummies(categorical_data)"
   ]
  },
  {
   "cell_type": "code",
   "execution_count": 114,
   "metadata": {},
   "outputs": [],
   "source": [
    "def filter_columns_corr_more_than_x(x, df, target_series, target_name):\n",
    "    df_and_target = pd.concat([df, train_data[target_name]], axis=1)\n",
    "    df_and_target_corr = df_and_target.corr().abs().drop(columns=[target_name])\n",
    "    return df.loc[:, (df_and_target_corr.loc[target_name,:]>=x)]"
   ]
  },
  {
   "cell_type": "code",
   "execution_count": 115,
   "metadata": {},
   "outputs": [
    {
     "name": "stdout",
     "output_type": "stream",
     "text": [
      "(1460,)\n",
      "(1460, 36)\n",
      "(1460, 43)\n"
     ]
    }
   ],
   "source": [
    "target_column, numerical_columns, categorical_columns = split_target_numerical_and_categorical_columns(train_data, 'SalePrice')\n",
    "print(target_column.shape)\n",
    "print(numerical_columns.shape)\n",
    "print(categorical_columns.shape)"
   ]
  },
  {
   "cell_type": "code",
   "execution_count": 116,
   "metadata": {},
   "outputs": [
    {
     "data": {
      "text/html": [
       "<div>\n",
       "<style scoped>\n",
       "    .dataframe tbody tr th:only-of-type {\n",
       "        vertical-align: middle;\n",
       "    }\n",
       "\n",
       "    .dataframe tbody tr th {\n",
       "        vertical-align: top;\n",
       "    }\n",
       "\n",
       "    .dataframe thead th {\n",
       "        text-align: right;\n",
       "    }\n",
       "</style>\n",
       "<table border=\"1\" class=\"dataframe\">\n",
       "  <thead>\n",
       "    <tr style=\"text-align: right;\">\n",
       "      <th></th>\n",
       "      <th>MSZoning</th>\n",
       "      <th>Street</th>\n",
       "      <th>Alley</th>\n",
       "      <th>LotShape</th>\n",
       "      <th>LandContour</th>\n",
       "      <th>Utilities</th>\n",
       "      <th>LotConfig</th>\n",
       "      <th>LandSlope</th>\n",
       "      <th>Neighborhood</th>\n",
       "      <th>Condition1</th>\n",
       "      <th>...</th>\n",
       "      <th>GarageType</th>\n",
       "      <th>GarageFinish</th>\n",
       "      <th>GarageQual</th>\n",
       "      <th>GarageCond</th>\n",
       "      <th>PavedDrive</th>\n",
       "      <th>PoolQC</th>\n",
       "      <th>Fence</th>\n",
       "      <th>MiscFeature</th>\n",
       "      <th>SaleType</th>\n",
       "      <th>SaleCondition</th>\n",
       "    </tr>\n",
       "  </thead>\n",
       "  <tbody>\n",
       "    <tr>\n",
       "      <th>count</th>\n",
       "      <td>1460</td>\n",
       "      <td>1460</td>\n",
       "      <td>91</td>\n",
       "      <td>1460</td>\n",
       "      <td>1460</td>\n",
       "      <td>1460</td>\n",
       "      <td>1460</td>\n",
       "      <td>1460</td>\n",
       "      <td>1460</td>\n",
       "      <td>1460</td>\n",
       "      <td>...</td>\n",
       "      <td>1379</td>\n",
       "      <td>1379</td>\n",
       "      <td>1379</td>\n",
       "      <td>1379</td>\n",
       "      <td>1460</td>\n",
       "      <td>7</td>\n",
       "      <td>281</td>\n",
       "      <td>54</td>\n",
       "      <td>1460</td>\n",
       "      <td>1460</td>\n",
       "    </tr>\n",
       "    <tr>\n",
       "      <th>unique</th>\n",
       "      <td>5</td>\n",
       "      <td>2</td>\n",
       "      <td>2</td>\n",
       "      <td>4</td>\n",
       "      <td>4</td>\n",
       "      <td>2</td>\n",
       "      <td>5</td>\n",
       "      <td>3</td>\n",
       "      <td>25</td>\n",
       "      <td>9</td>\n",
       "      <td>...</td>\n",
       "      <td>6</td>\n",
       "      <td>3</td>\n",
       "      <td>5</td>\n",
       "      <td>5</td>\n",
       "      <td>3</td>\n",
       "      <td>3</td>\n",
       "      <td>4</td>\n",
       "      <td>4</td>\n",
       "      <td>9</td>\n",
       "      <td>6</td>\n",
       "    </tr>\n",
       "    <tr>\n",
       "      <th>top</th>\n",
       "      <td>RL</td>\n",
       "      <td>Pave</td>\n",
       "      <td>Grvl</td>\n",
       "      <td>Reg</td>\n",
       "      <td>Lvl</td>\n",
       "      <td>AllPub</td>\n",
       "      <td>Inside</td>\n",
       "      <td>Gtl</td>\n",
       "      <td>NAmes</td>\n",
       "      <td>Norm</td>\n",
       "      <td>...</td>\n",
       "      <td>Attchd</td>\n",
       "      <td>Unf</td>\n",
       "      <td>TA</td>\n",
       "      <td>TA</td>\n",
       "      <td>Y</td>\n",
       "      <td>Gd</td>\n",
       "      <td>MnPrv</td>\n",
       "      <td>Shed</td>\n",
       "      <td>WD</td>\n",
       "      <td>Normal</td>\n",
       "    </tr>\n",
       "    <tr>\n",
       "      <th>freq</th>\n",
       "      <td>1151</td>\n",
       "      <td>1454</td>\n",
       "      <td>50</td>\n",
       "      <td>925</td>\n",
       "      <td>1311</td>\n",
       "      <td>1459</td>\n",
       "      <td>1052</td>\n",
       "      <td>1382</td>\n",
       "      <td>225</td>\n",
       "      <td>1260</td>\n",
       "      <td>...</td>\n",
       "      <td>870</td>\n",
       "      <td>605</td>\n",
       "      <td>1311</td>\n",
       "      <td>1326</td>\n",
       "      <td>1340</td>\n",
       "      <td>3</td>\n",
       "      <td>157</td>\n",
       "      <td>49</td>\n",
       "      <td>1267</td>\n",
       "      <td>1198</td>\n",
       "    </tr>\n",
       "  </tbody>\n",
       "</table>\n",
       "<p>4 rows × 43 columns</p>\n",
       "</div>"
      ],
      "text/plain": [
       "       MSZoning Street Alley LotShape LandContour Utilities LotConfig  \\\n",
       "count      1460   1460    91     1460        1460      1460      1460   \n",
       "unique        5      2     2        4           4         2         5   \n",
       "top          RL   Pave  Grvl      Reg         Lvl    AllPub    Inside   \n",
       "freq       1151   1454    50      925        1311      1459      1052   \n",
       "\n",
       "       LandSlope Neighborhood Condition1      ...      GarageType  \\\n",
       "count       1460         1460       1460      ...            1379   \n",
       "unique         3           25          9      ...               6   \n",
       "top          Gtl        NAmes       Norm      ...          Attchd   \n",
       "freq        1382          225       1260      ...             870   \n",
       "\n",
       "       GarageFinish GarageQual GarageCond PavedDrive PoolQC  Fence  \\\n",
       "count          1379       1379       1379       1460      7    281   \n",
       "unique            3          5          5          3      3      4   \n",
       "top             Unf         TA         TA          Y     Gd  MnPrv   \n",
       "freq            605       1311       1326       1340      3    157   \n",
       "\n",
       "       MiscFeature SaleType SaleCondition  \n",
       "count           54     1460          1460  \n",
       "unique           4        9             6  \n",
       "top           Shed       WD        Normal  \n",
       "freq            49     1267          1198  \n",
       "\n",
       "[4 rows x 43 columns]"
      ]
     },
     "execution_count": 116,
     "metadata": {},
     "output_type": "execute_result"
    }
   ],
   "source": [
    "non_number_data_description = categorical_columns.describe()\n",
    "non_number_data_description"
   ]
  },
  {
   "cell_type": "code",
   "execution_count": 139,
   "metadata": {},
   "outputs": [
    {
     "data": {
      "text/plain": [
       "MSZoning_C (all)      10.0\n",
       "MSZoning_FV           65.0\n",
       "MSZoning_RH           16.0\n",
       "MSZoning_RL         1151.0\n",
       "MSZoning_RM          218.0\n",
       "dtype: float64"
      ]
     },
     "execution_count": 139,
     "metadata": {},
     "output_type": "execute_result"
    }
   ],
   "source": [
    "one_hot_categorical_columns = one_hot_encode_categorical_data(categorical_columns)\n",
    "one_hot_categorical_columns.sum(axis=0).head()"
   ]
  },
  {
   "cell_type": "code",
   "execution_count": 141,
   "metadata": {},
   "outputs": [],
   "source": [
    "scaler_cat = MinMaxScaler()\n",
    "scaled_cat_train_data = scaler_cat.fit_transform(one_hot_categorical_columns.fillna(0))\n",
    "one_hot_categorical_columns = pd.DataFrame(scaled_cat_train_data, columns=one_hot_categorical_columns.columns)\n",
    "\n",
    "scaler_num = MinMaxScaler()\n",
    "scaled_num_train_data = scaler_num.fit_transform(numerical_columns.fillna(0))\n",
    "numerical_columns = pd.DataFrame(scaled_num_train_data, columns=numerical_columns.columns)"
   ]
  },
  {
   "cell_type": "code",
   "execution_count": 149,
   "metadata": {},
   "outputs": [
    {
     "name": "stdout",
     "output_type": "stream",
     "text": [
      "(1460, 107)\n",
      "(1460, 26)\n",
      "(1460, 133)\n",
      "<class 'pandas.core.frame.DataFrame'>\n"
     ]
    }
   ],
   "source": [
    "train_cat_data = filter_columns_corr_more_than_x(0.1, one_hot_categorical_columns, train_data['SalePrice'], 'SalePrice')\n",
    "num_cat_columns = train_cat_data.columns\n",
    "print(train_cat_data.shape)\n",
    "train_num_data = filter_columns_corr_more_than_x(0.1, numerical_columns, train_data['SalePrice'], 'SalePrice')\n",
    "num_data_columns = train_num_data.columns\n",
    "print(train_num_data.shape)\n",
    "processed_train_data = pd.concat([train_cat_data, train_num_data], axis=1, ignore_index=True).fillna(0)\n",
    "print(processed_train_data.shape)\n",
    "print(type(processed_train_data))"
   ]
  },
  {
   "cell_type": "code",
   "execution_count": 150,
   "metadata": {},
   "outputs": [],
   "source": [
    "split_on_row = int(0.8*processed_train_data.shape[0])\n",
    "X_train = processed_train_data.iloc[:split_on_row, :]\n",
    "y_train = train_data.iloc[:split_on_row, :]['SalePrice']\n",
    "X_validation = processed_train_data.iloc[split_on_row:, :]\n",
    "y_validation = train_data.iloc[split_on_row:, :]['SalePrice']"
   ]
  },
  {
   "cell_type": "code",
   "execution_count": null,
   "metadata": {},
   "outputs": [],
   "source": []
  },
  {
   "cell_type": "markdown",
   "metadata": {},
   "source": [
    "## Train model"
   ]
  },
  {
   "cell_type": "code",
   "execution_count": 160,
   "metadata": {},
   "outputs": [
    {
     "name": "stdout",
     "output_type": "stream",
     "text": [
      "0.15916546545831647\n"
     ]
    }
   ],
   "source": [
    "ridge_model = Ridge(alpha=0.1, fit_intercept=True, normalize=True)\n",
    "ridge_model.fit(X_train, y_train)\n",
    "ridge_prediction = ridge_model.predict(X_validation)\n",
    "ridge_regression_r2 = r2_score(y_validation, ridge_prediction)\n",
    "print(np.sqrt(mean_squared_log_error(y_validation, ridge_prediction, sample_weight=None, multioutput='uniform_average')))"
   ]
  },
  {
   "cell_type": "code",
   "execution_count": 161,
   "metadata": {},
   "outputs": [
    {
     "name": "stdout",
     "output_type": "stream",
     "text": [
      "0.15846397610992835\n"
     ]
    }
   ],
   "source": [
    "bag_model = BaggingRegressor()\n",
    "bag_model.fit(X_train, y_train)\n",
    "bag_prediction = bag_model.predict(X_validation)\n",
    "bag_regression_r2 = r2_score(y_validation, bag_prediction)\n",
    "print(np.sqrt(mean_squared_log_error(y_validation, bag_prediction, sample_weight=None, multioutput='uniform_average')))"
   ]
  },
  {
   "cell_type": "code",
   "execution_count": null,
   "metadata": {},
   "outputs": [],
   "source": []
  },
  {
   "cell_type": "code",
   "execution_count": 153,
   "metadata": {},
   "outputs": [],
   "source": [
    "def run_knn(n_neighbors, X_train, y_train, X_validation, y_validation):\n",
    "    score_on_train = {}\n",
    "    score_on_validation = {}\n",
    "\n",
    "    for i, weights in enumerate(['uniform', 'distance']):\n",
    "        nn_model = KNeighborsRegressor(n_neighbors, weights = weights, p=1)\n",
    "        nn_model.fit(X_train, y_train)\n",
    "        train_prediction = nn_model.predict(X_train)\n",
    "        score_on_train[weights] = r2_score(y_train, train_prediction)\n",
    "\n",
    "        nn_prediction = nn_model.predict(X_validation)\n",
    "        score_on_validation[weights] = np.sqrt(mean_squared_log_error(y_validation, nn_prediction, sample_weight=None, multioutput='uniform_average'))#r2_score(y_validation, nn_prediction)\n",
    "    return score_on_validation, nn_prediction"
   ]
  },
  {
   "cell_type": "code",
   "execution_count": 154,
   "metadata": {},
   "outputs": [
    {
     "data": {
      "image/png": "[encoded data removed]",
      "text/plain": [
       "<Figure size 720x576 with 1 Axes>"
      ]
     },
     "metadata": {},
     "output_type": "display_data"
    }
   ],
   "source": [
    "knn_r2 = pd.DataFrame(columns = ['no_of_neighbours', 'r2'])\n",
    "for n_neighbors in range(1,21):\n",
    "    score, prediction = run_knn(n_neighbors, X_train, y_train, X_validation, y_validation)\n",
    "    result = pd.DataFrame([[n_neighbors, score['distance']]],\n",
    "                    columns = ['no_of_neighbours', 'r2'])\n",
    "    knn_r2 = knn_r2.append(result)\n",
    "\n",
    "f, ax = plt.subplots(figsize=(10, 8))\n",
    "ax.plot(knn_r2['no_of_neighbours'], knn_r2['r2'], '-bo')\n",
    "ax.grid(True)"
   ]
  },
  {
   "cell_type": "code",
   "execution_count": 155,
   "metadata": {},
   "outputs": [
    {
     "name": "stdout",
     "output_type": "stream",
     "text": [
      "0.1898955002470823\n"
     ]
    }
   ],
   "source": [
    "n_neighbors = 14\n",
    "nn_regression_r2, nn_regression_prediction = run_knn(n_neighbors, X_train, y_train, X_validation, y_validation)\n",
    "print(np.sqrt(mean_squared_log_error(y_validation, nn_regression_prediction, sample_weight=None, multioutput='uniform_average')))"
   ]
  },
  {
   "cell_type": "code",
   "execution_count": null,
   "metadata": {},
   "outputs": [],
   "source": []
  }
 ],
 "metadata": {
  "kernelspec": {
   "display_name": "Python 3",
   "language": "python",
   "name": "python3"
  },
  "language_info": {
   "codemirror_mode": {
    "name": "ipython",
    "version": 3
   },
   "file_extension": ".py",
   "mimetype": "text/x-python",
   "name": "python",
   "nbconvert_exporter": "python",
   "pygments_lexer": "ipython3",
   "version": "3.6.5"
  }
 },
 "nbformat": 4,
 "nbformat_minor": 2
}
