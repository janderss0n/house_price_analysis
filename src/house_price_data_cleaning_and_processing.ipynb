{
 "cells": [
  {
   "cell_type": "code",
   "execution_count": 1,
   "metadata": {},
   "outputs": [],
   "source": [
    "import pandas as pd\n",
    "import matplotlib.pyplot as plt\n",
    "import scipy.stats as stats\n",
    "import seaborn as sns\n",
    "import numpy as np\n",
    "from sklearn.neighbors import KNeighborsRegressor\n",
    "from sklearn.preprocessing import MinMaxScaler\n",
    "from sklearn.ensemble import BaggingRegressor\n",
    "from sklearn.linear_model import Ridge, Lasso, ElasticNet, LassoLars\n",
    "from sklearn.metrics import r2_score, mean_squared_log_error"
   ]
  },
  {
   "cell_type": "code",
   "execution_count": 2,
   "metadata": {},
   "outputs": [],
   "source": [
    "train_data = pd.read_csv('../data/train.csv', delimiter=',').drop(['Id'], axis=1)"
   ]
  },
  {
   "cell_type": "code",
   "execution_count": 3,
   "metadata": {},
   "outputs": [],
   "source": [
    "def split_target_numerical_and_categorical_columns(df, target_name):\n",
    "    target_column = train_data[target_name]\n",
    "    numerical_columns = train_data.drop(columns=[target_name]).select_dtypes(include=[np.number])\n",
    "    categorical_columns = train_data.drop(columns=[target_name]).select_dtypes(exclude=[np.number])\n",
    "    return target_column, numerical_columns, categorical_columns"
   ]
  },
  {
   "cell_type": "code",
   "execution_count": 4,
   "metadata": {},
   "outputs": [],
   "source": [
    "def one_hot_encode_categorical_data(categorical_data):\n",
    "    return pd.get_dummies(categorical_data)"
   ]
  },
  {
   "cell_type": "code",
   "execution_count": 5,
   "metadata": {},
   "outputs": [],
   "source": [
    "def filter_columns_corr_more_than_x(x, df, target_series, target_name):\n",
    "    df_and_target = pd.concat([df, train_data[target_name]], axis=1)\n",
    "    df_and_target_corr = df_and_target.corr().abs().drop(columns=[target_name])\n",
    "    return df.loc[:, (df_and_target_corr.loc[target_name,:]>=x)]"
   ]
  },
  {
   "cell_type": "code",
   "execution_count": 6,
   "metadata": {},
   "outputs": [
    {
     "name": "stdout",
     "output_type": "stream",
     "text": [
      "(1460,)\n",
      "(1460, 36)\n",
      "(1460, 43)\n"
     ]
    }
   ],
   "source": [
    "target_column, numerical_columns, categorical_columns = split_target_numerical_and_categorical_columns(train_data, 'SalePrice')\n",
    "print(target_column.shape)\n",
    "print(numerical_columns.shape)\n",
    "print(categorical_columns.shape)"
   ]
  },
  {
   "cell_type": "code",
   "execution_count": 7,
   "metadata": {},
   "outputs": [
    {
     "data": {
      "text/html": [
       "<div>\n",
       "<style scoped>\n",
       "    .dataframe tbody tr th:only-of-type {\n",
       "        vertical-align: middle;\n",
       "    }\n",
       "\n",
       "    .dataframe tbody tr th {\n",
       "        vertical-align: top;\n",
       "    }\n",
       "\n",
       "    .dataframe thead th {\n",
       "        text-align: right;\n",
       "    }\n",
       "</style>\n",
       "<table border=\"1\" class=\"dataframe\">\n",
       "  <thead>\n",
       "    <tr style=\"text-align: right;\">\n",
       "      <th></th>\n",
       "      <th>MSZoning</th>\n",
       "      <th>Street</th>\n",
       "      <th>Alley</th>\n",
       "      <th>LotShape</th>\n",
       "      <th>LandContour</th>\n",
       "      <th>Utilities</th>\n",
       "      <th>LotConfig</th>\n",
       "      <th>LandSlope</th>\n",
       "      <th>Neighborhood</th>\n",
       "      <th>Condition1</th>\n",
       "      <th>...</th>\n",
       "      <th>GarageType</th>\n",
       "      <th>GarageFinish</th>\n",
       "      <th>GarageQual</th>\n",
       "      <th>GarageCond</th>\n",
       "      <th>PavedDrive</th>\n",
       "      <th>PoolQC</th>\n",
       "      <th>Fence</th>\n",
       "      <th>MiscFeature</th>\n",
       "      <th>SaleType</th>\n",
       "      <th>SaleCondition</th>\n",
       "    </tr>\n",
       "  </thead>\n",
       "  <tbody>\n",
       "    <tr>\n",
       "      <th>count</th>\n",
       "      <td>1460</td>\n",
       "      <td>1460</td>\n",
       "      <td>91</td>\n",
       "      <td>1460</td>\n",
       "      <td>1460</td>\n",
       "      <td>1460</td>\n",
       "      <td>1460</td>\n",
       "      <td>1460</td>\n",
       "      <td>1460</td>\n",
       "      <td>1460</td>\n",
       "      <td>...</td>\n",
       "      <td>1379</td>\n",
       "      <td>1379</td>\n",
       "      <td>1379</td>\n",
       "      <td>1379</td>\n",
       "      <td>1460</td>\n",
       "      <td>7</td>\n",
       "      <td>281</td>\n",
       "      <td>54</td>\n",
       "      <td>1460</td>\n",
       "      <td>1460</td>\n",
       "    </tr>\n",
       "    <tr>\n",
       "      <th>unique</th>\n",
       "      <td>5</td>\n",
       "      <td>2</td>\n",
       "      <td>2</td>\n",
       "      <td>4</td>\n",
       "      <td>4</td>\n",
       "      <td>2</td>\n",
       "      <td>5</td>\n",
       "      <td>3</td>\n",
       "      <td>25</td>\n",
       "      <td>9</td>\n",
       "      <td>...</td>\n",
       "      <td>6</td>\n",
       "      <td>3</td>\n",
       "      <td>5</td>\n",
       "      <td>5</td>\n",
       "      <td>3</td>\n",
       "      <td>3</td>\n",
       "      <td>4</td>\n",
       "      <td>4</td>\n",
       "      <td>9</td>\n",
       "      <td>6</td>\n",
       "    </tr>\n",
       "    <tr>\n",
       "      <th>top</th>\n",
       "      <td>RL</td>\n",
       "      <td>Pave</td>\n",
       "      <td>Grvl</td>\n",
       "      <td>Reg</td>\n",
       "      <td>Lvl</td>\n",
       "      <td>AllPub</td>\n",
       "      <td>Inside</td>\n",
       "      <td>Gtl</td>\n",
       "      <td>NAmes</td>\n",
       "      <td>Norm</td>\n",
       "      <td>...</td>\n",
       "      <td>Attchd</td>\n",
       "      <td>Unf</td>\n",
       "      <td>TA</td>\n",
       "      <td>TA</td>\n",
       "      <td>Y</td>\n",
       "      <td>Gd</td>\n",
       "      <td>MnPrv</td>\n",
       "      <td>Shed</td>\n",
       "      <td>WD</td>\n",
       "      <td>Normal</td>\n",
       "    </tr>\n",
       "    <tr>\n",
       "      <th>freq</th>\n",
       "      <td>1151</td>\n",
       "      <td>1454</td>\n",
       "      <td>50</td>\n",
       "      <td>925</td>\n",
       "      <td>1311</td>\n",
       "      <td>1459</td>\n",
       "      <td>1052</td>\n",
       "      <td>1382</td>\n",
       "      <td>225</td>\n",
       "      <td>1260</td>\n",
       "      <td>...</td>\n",
       "      <td>870</td>\n",
       "      <td>605</td>\n",
       "      <td>1311</td>\n",
       "      <td>1326</td>\n",
       "      <td>1340</td>\n",
       "      <td>3</td>\n",
       "      <td>157</td>\n",
       "      <td>49</td>\n",
       "      <td>1267</td>\n",
       "      <td>1198</td>\n",
       "    </tr>\n",
       "  </tbody>\n",
       "</table>\n",
       "<p>4 rows × 43 columns</p>\n",
       "</div>"
      ],
      "text/plain": [
       "       MSZoning Street Alley LotShape LandContour Utilities LotConfig  \\\n",
       "count      1460   1460    91     1460        1460      1460      1460   \n",
       "unique        5      2     2        4           4         2         5   \n",
       "top          RL   Pave  Grvl      Reg         Lvl    AllPub    Inside   \n",
       "freq       1151   1454    50      925        1311      1459      1052   \n",
       "\n",
       "       LandSlope Neighborhood Condition1      ...      GarageType  \\\n",
       "count       1460         1460       1460      ...            1379   \n",
       "unique         3           25          9      ...               6   \n",
       "top          Gtl        NAmes       Norm      ...          Attchd   \n",
       "freq        1382          225       1260      ...             870   \n",
       "\n",
       "       GarageFinish GarageQual GarageCond PavedDrive PoolQC  Fence  \\\n",
       "count          1379       1379       1379       1460      7    281   \n",
       "unique            3          5          5          3      3      4   \n",
       "top             Unf         TA         TA          Y     Gd  MnPrv   \n",
       "freq            605       1311       1326       1340      3    157   \n",
       "\n",
       "       MiscFeature SaleType SaleCondition  \n",
       "count           54     1460          1460  \n",
       "unique           4        9             6  \n",
       "top           Shed       WD        Normal  \n",
       "freq            49     1267          1198  \n",
       "\n",
       "[4 rows x 43 columns]"
      ]
     },
     "execution_count": 7,
     "metadata": {},
     "output_type": "execute_result"
    }
   ],
   "source": [
    "non_number_data_description = categorical_columns.describe()\n",
    "non_number_data_description"
   ]
  },
  {
   "cell_type": "code",
   "execution_count": 8,
   "metadata": {},
   "outputs": [
    {
     "data": {
      "text/plain": [
       "MSZoning_C (all)      10\n",
       "MSZoning_FV           65\n",
       "MSZoning_RH           16\n",
       "MSZoning_RL         1151\n",
       "MSZoning_RM          218\n",
       "dtype: int64"
      ]
     },
     "execution_count": 8,
     "metadata": {},
     "output_type": "execute_result"
    }
   ],
   "source": [
    "one_hot_categorical_columns = one_hot_encode_categorical_data(categorical_columns)\n",
    "one_hot_categorical_columns.sum(axis=0).head()"
   ]
  },
  {
   "cell_type": "code",
   "execution_count": 57,
   "metadata": {},
   "outputs": [],
   "source": [
    "scaler_cat = MinMaxScaler()\n",
    "scaled_cat_train_data = scaler_cat.fit_transform(one_hot_categorical_columns.fillna(0))\n",
    "scaled_cat_train_data = pd.DataFrame(scaled_cat_train_data, columns=one_hot_categorical_columns.columns)\n",
    "\n",
    "scaler_num = MinMaxScaler()\n",
    "scaled_num_train_data = scaler_num.fit_transform(numerical_columns.fillna(0))\n",
    "scaled_num_train_data = pd.DataFrame(scaled_num_train_data, columns=numerical_columns.columns)"
   ]
  },
  {
   "cell_type": "code",
   "execution_count": 58,
   "metadata": {},
   "outputs": [
    {
     "name": "stdout",
     "output_type": "stream",
     "text": [
      "(1460, 107)\n",
      "(1460, 26)\n",
      "(1460, 133)\n",
      "<class 'pandas.core.frame.DataFrame'>\n"
     ]
    }
   ],
   "source": [
    "train_cat_data = filter_columns_corr_more_than_x(0.1, scaled_cat_train_data, train_data['SalePrice'], 'SalePrice')\n",
    "num_cat_columns = train_cat_data.columns\n",
    "print(train_cat_data.shape)\n",
    "\n",
    "train_num_data = filter_columns_corr_more_than_x(0.1, scaled_num_train_data, train_data['SalePrice'], 'SalePrice')\n",
    "num_data_columns = train_num_data.columns\n",
    "print(train_num_data.shape)\n",
    "\n",
    "processed_train_data = pd.concat([train_cat_data, train_num_data], axis=1).fillna(0)\n",
    "print(processed_train_data.shape)\n",
    "print(type(processed_train_data))"
   ]
  },
  {
   "cell_type": "code",
   "execution_count": null,
   "metadata": {},
   "outputs": [],
   "source": []
  },
  {
   "cell_type": "markdown",
   "metadata": {},
   "source": [
    "## Feature Selection"
   ]
  },
  {
   "cell_type": "code",
   "execution_count": 41,
   "metadata": {},
   "outputs": [],
   "source": [
    "from sklearn.feature_selection import SelectKBest, chi2, RFE\n",
    "from sklearn.decomposition import PCA\n",
    "from sklearn.ensemble import ExtraTreesClassifier\n",
    "from sklearn.linear_model import LogisticRegression"
   ]
  },
  {
   "cell_type": "code",
   "execution_count": 88,
   "metadata": {},
   "outputs": [],
   "source": [
    "def chi2_feature_selection(K, X, y):\n",
    "    test = SelectKBest(score_func=chi2, k=K)\n",
    "    fit = test.fit(X, y)\n",
    "    np.set_printoptions(precision=3)\n",
    "    score = list(zip(fit.scores_, X.columns.values))\n",
    "    sorted_score = sorted(score, reverse=True)[:K]\n",
    "    chosen_columns = [x[1] for x in a]\n",
    "    return sorted_score, X.loc[:, chosen_columns]"
   ]
  },
  {
   "cell_type": "code",
   "execution_count": 89,
   "metadata": {},
   "outputs": [],
   "source": [
    "def RFE_feature_selection(K, X, y):\n",
    "    model = LogisticRegression()\n",
    "    rfe = RFE(model, K)\n",
    "    fit = rfe.fit(X, y)\n",
    "    return X.loc[:, fit.support_].columns, X.loc[:, fit.support_]"
   ]
  },
  {
   "cell_type": "code",
   "execution_count": 90,
   "metadata": {},
   "outputs": [],
   "source": [
    "def PCA_feature_selection(K, X):\n",
    "    pca = PCA(n_components=K)\n",
    "    fit = pca.fit(X)\n",
    "    return fit.explained_variance_ratio_, fit.components_"
   ]
  },
  {
   "cell_type": "code",
   "execution_count": 91,
   "metadata": {},
   "outputs": [],
   "source": [
    "def tree_feature_importance(K, X, y):\n",
    "    model = ExtraTreesClassifier()\n",
    "    model.fit(X, y)\n",
    "    score = list(zip(model.feature_importances_, X.columns.values))\n",
    "    sorted_score = sorted(score, reverse=True)[:K]\n",
    "    chosen_columns = [x[1] for x in a]\n",
    "    return sorted_score, X.loc[:, chosen_columns]"
   ]
  },
  {
   "cell_type": "code",
   "execution_count": null,
   "metadata": {},
   "outputs": [],
   "source": []
  },
  {
   "cell_type": "code",
   "execution_count": 95,
   "metadata": {},
   "outputs": [],
   "source": [
    "data_for_feature_extraction = pd.concat([one_hot_categorical_columns, numerical_columns], axis=1).fillna(0)\n",
    "\n",
    "_, chi2_features = chi2_feature_selection(3, processed_train_data, train_data['SalePrice'])\n",
    "#RFE_feature_selection(5, processed_train_data, train_data['SalePrice'])\n",
    "_, PCA_features = PCA_feature_selection(3, processed_train_data)\n",
    "_, tree_features = tree_feature_importance(3, processed_train_data, train_data['SalePrice'])"
   ]
  },
  {
   "cell_type": "code",
   "execution_count": 96,
   "metadata": {},
   "outputs": [
    {
     "name": "stdout",
     "output_type": "stream",
     "text": [
      "(1460, 5)\n",
      "(3, 133)\n",
      "(1460, 5)\n",
      "[[-5.477e-03  5.643e-02 -7.433e-02 -2.421e-02  8.027e-02  1.029e-02\n",
      "  -9.324e-02 -2.228e-02  1.016e-02  1.827e-02 -7.499e-03 -2.618e-02\n",
      "  -2.746e-02 -1.905e-02 -4.433e-03 -7.257e-02  2.448e-02  4.656e-02\n",
      "  -5.145e-02 -2.332e-02  4.222e-02  1.264e-02  1.395e-02 -2.224e-02\n",
      "  -2.155e-02  4.025e-02 -1.504e-03 -1.905e-02 -6.275e-02  8.813e-02\n",
      "  -8.284e-03  1.477e-02  1.554e-04  4.875e-04 -9.485e-03  9.832e-03\n",
      "  -6.427e-02  2.099e-01 -7.145e-02  1.029e-02 -6.167e-02  2.076e-01\n",
      "  -7.272e-02  7.485e-02 -1.383e-01  6.374e-02  2.447e-02 -5.385e-03\n",
      "   2.417e-01 -2.608e-01 -1.260e-02  3.800e-02 -6.597e-02 -1.902e-01\n",
      "   2.655e-01 -8.033e-03  6.555e-02 -1.482e-02  2.022e-01 -2.402e-01\n",
      "  -1.988e-02  2.057e-02  6.065e-02  3.242e-02 -8.540e-02 -4.060e-02\n",
      "  -4.556e-02  1.666e-01 -4.956e-02  4.618e-02  2.175e-01 -1.993e-02\n",
      "  -4.221e-02 -1.547e-01 -4.830e-02  4.830e-02 -4.502e-02 -1.318e-02\n",
      "   5.999e-02  4.299e-02 -1.547e-02  2.124e-01 -2.399e-01  2.889e-02\n",
      "   1.097e-02  7.094e-02  4.019e-02  1.531e-01  3.637e-02 -1.501e-01\n",
      "   1.295e-01  1.087e-01 -2.077e-01 -2.270e-02  5.652e-02 -1.721e-02\n",
      "   5.365e-02 -3.974e-02  5.242e-02  4.590e-04 -1.777e-02 -4.615e-02\n",
      "   7.424e-02 -5.992e-02 -1.878e-02 -4.792e-02  7.439e-02  7.725e-03\n",
      "   1.982e-03  7.430e-02  1.183e-01  1.654e-01  2.473e-02  1.125e-02\n",
      "   3.252e-02  2.094e-02  2.106e-02  2.831e-02  2.769e-02  1.878e-02\n",
      "   7.168e-02  4.253e-02 -6.072e-04 -9.141e-03  2.498e-02  3.727e-02\n",
      "   3.594e-02  7.433e-02  5.334e-02  2.585e-02  2.262e-02 -1.739e-02\n",
      "  -2.147e-03]\n",
      " [ 6.180e-03 -2.742e-01  1.997e-01  5.707e-02 -1.978e-01  3.786e-03\n",
      "   1.920e-01  2.637e-02 -5.019e-03 -5.295e-02  2.377e-03  4.697e-02\n",
      "   2.190e-02  3.569e-02  3.967e-03 -1.636e-01 -1.103e-02 -1.074e-03\n",
      "   1.246e-01 -4.124e-02  6.192e-02 -4.163e-03 -1.664e-02  2.337e-02\n",
      "  -3.812e-03 -9.203e-03 -5.410e-02 -6.558e-03  8.673e-02  8.835e-02\n",
      "   1.402e-01 -1.401e-01  1.649e-02 -2.791e-03  1.604e-02  6.042e-03\n",
      "   3.457e-02  1.213e-01  4.774e-02  6.081e-03  3.552e-02  1.212e-01\n",
      "   4.274e-02 -2.314e-01  2.345e-01  6.073e-03 -1.161e-02  1.078e-02\n",
      "   8.153e-02 -8.070e-02  1.814e-02 -2.746e-02  1.595e-01 -3.151e-01\n",
      "   1.445e-01  6.424e-03 -6.110e-03  3.181e-02  2.759e-02 -6.272e-02\n",
      "   2.909e-02 -4.336e-02 -3.210e-02 -6.294e-02  8.396e-02 -9.355e-02\n",
      "  -6.736e-02 -1.391e-02 -4.068e-02  7.954e-02  1.160e-01  1.759e-02\n",
      "   8.420e-03 -1.427e-01  8.347e-02 -8.347e-02  3.531e-02  1.689e-02\n",
      "  -5.912e-02 -4.591e-03  2.911e-02  8.350e-02 -1.080e-01 -1.262e-03\n",
      "  -1.601e-03  1.780e-02 -1.401e-01 -2.960e-01  2.298e-02  2.312e-01\n",
      "  -3.694e-02 -1.295e-01  1.203e-01  5.341e-02 -1.072e-01  3.493e-02\n",
      "  -8.740e-02  9.016e-02 -1.078e-01  4.337e-04 -2.328e-02 -2.592e-02\n",
      "   3.981e-02 -3.270e-02  8.036e-03 -5.015e-02  4.063e-02  2.663e-03\n",
      "  -1.113e-02 -7.636e-03 -5.923e-02  3.949e-02 -3.670e-02 -3.358e-02\n",
      "   3.596e-02 -2.311e-02 -3.382e-02  5.769e-02 -4.101e-03 -4.637e-02\n",
      "   4.238e-03 -9.752e-03 -6.800e-03  8.365e-03 -1.460e-03 -6.989e-02\n",
      "  -4.559e-02 -2.722e-02 -2.641e-02 -2.975e-02  5.229e-03  2.169e-02\n",
      "  -1.622e-02]\n",
      " [ 7.025e-03 -2.366e-02  2.758e-02  6.173e-03 -1.245e-01 -1.107e-02\n",
      "   1.348e-01  1.327e-02  1.840e-02 -3.295e-02 -7.015e-04  3.279e-03\n",
      "   3.198e-02  1.169e-02 -8.228e-03  3.820e-02 -2.481e-02  1.224e-01\n",
      "   1.975e-02 -6.773e-03  6.880e-03  1.386e-02  1.728e-02  9.289e-03\n",
      "   7.027e-03 -8.063e-03  4.705e-03  2.947e-03  5.055e-03 -1.739e-01\n",
      "  -3.141e-01  3.086e-01 -6.249e-03  4.627e-04  3.507e-03  4.115e-02\n",
      "   2.646e-02 -1.294e-02  3.552e-02  4.223e-02  2.513e-02 -1.157e-02\n",
      "   2.775e-02  3.920e-02 -1.823e-01  1.394e-01  1.294e-01  7.876e-03\n",
      "  -7.538e-02 -6.191e-02  6.947e-03  1.190e-02  1.656e-02 -2.224e-02\n",
      "   6.069e-03  2.789e-03  2.231e-01  4.643e-04 -3.383e-01  1.068e-01\n",
      "   1.297e-02 -3.156e-02  4.629e-02  5.822e-02 -1.198e-01 -4.988e-02\n",
      "  -6.027e-03  2.331e-02  2.283e-02  1.682e-02  9.327e-02  8.080e-03\n",
      "  -6.500e-02 -3.671e-02  2.195e-02 -2.195e-02  2.235e-02  7.332e-03\n",
      "  -2.925e-02  1.745e-01  7.119e-03 -1.651e-01 -1.652e-02  1.474e-03\n",
      "   2.586e-02  2.685e-01 -2.223e-01 -4.933e-02  2.021e-02  1.402e-02\n",
      "   1.363e-01 -1.332e-01 -8.778e-03  6.098e-03 -1.165e-02  7.932e-03\n",
      "  -1.687e-02  2.092e-02 -2.394e-02  9.669e-04  5.251e-03 -1.826e-02\n",
      "   1.867e-01 -2.122e-01  2.553e-02 -2.257e-01  1.892e-01  3.998e-02\n",
      "   3.209e-03  4.245e-02 -7.409e-03  6.014e-03  4.584e-02  1.971e-02\n",
      "   4.172e-02  3.337e-02  4.706e-02 -6.215e-02  1.487e-02  1.629e-02\n",
      "  -9.046e-03 -6.965e-02 -1.084e-02  3.331e-03  2.507e-02  3.131e-02\n",
      "  -5.659e-03  3.298e-02  3.740e-02 -1.253e-03  9.067e-03 -6.206e-05\n",
      "   7.717e-03]]\n"
     ]
    }
   ],
   "source": [
    "print(chi2_features.shape)\n",
    "print(PCA_features.shape)\n",
    "print(tree_features.shape)\n",
    "print(PCA_features)"
   ]
  },
  {
   "cell_type": "code",
   "execution_count": 65,
   "metadata": {},
   "outputs": [
    {
     "data": {
      "text/plain": [
       "['1stFlrSF', 'LotArea', 'GrLivArea', 'BsmtUnfSF', 'TotalBsmtSF']"
      ]
     },
     "execution_count": 65,
     "metadata": {},
     "output_type": "execute_result"
    }
   ],
   "source": []
  },
  {
   "cell_type": "markdown",
   "metadata": {},
   "source": [
    "## Split data to train and validation"
   ]
  },
  {
   "cell_type": "code",
   "execution_count": null,
   "metadata": {},
   "outputs": [],
   "source": [
    "split_on_row = int(0.8*processed_train_data.shape[0])\n",
    "X_train = processed_train_data.iloc[:split_on_row, :]\n",
    "y_train = train_data.iloc[:split_on_row, :]['SalePrice']\n",
    "X_validation = processed_train_data.iloc[split_on_row:, :]\n",
    "y_validation = train_data.iloc[split_on_row:, :]['SalePrice']"
   ]
  },
  {
   "cell_type": "markdown",
   "metadata": {},
   "source": [
    "## Train model"
   ]
  },
  {
   "cell_type": "code",
   "execution_count": null,
   "metadata": {},
   "outputs": [],
   "source": [
    "models = {'Ridge Regression': Ridge(alpha=0.1, fit_intercept=True, normalize=True), \n",
    "            'Lasso': Lasso(alpha=2), \n",
    "            'Elastic Net': ElasticNet(alpha=0.1),\n",
    "            'LARS Lasso': LassoLars(alpha=3),\n",
    "            'Bagging Regressor': BaggingRegressor()\n",
    "         }"
   ]
  },
  {
   "cell_type": "code",
   "execution_count": null,
   "metadata": {},
   "outputs": [],
   "source": [
    "def train_model(model, X_train, y_train):\n",
    "    model.fit(X_train, y_train)\n",
    "    return model\n",
    "\n",
    "def predict_with_model(model, X_validation):\n",
    "    return model.predict(X_validation)\n",
    "\n",
    "def calc_r2_score(y_validation, prediction):\n",
    "    return round(r2_score(y_validation, prediction),4)\n",
    "\n",
    "def calc_RMSE_score(y_validation, prediction):\n",
    "    RMSE_score = np.sqrt(mean_squared_log_error(y_validation, prediction, sample_weight=None, multioutput='uniform_average'))\n",
    "    return round(RMSE_score,4)\n",
    "\n",
    "def train_predict_get_score(model, X_train, y_train, X_validation, y_validation):\n",
    "    model = train_model(model, X_train, y_train)\n",
    "    prediction = pd.Series(predict_with_model(model, X_validation))\n",
    "    model_r2 = calc_r2_score(y_validation, prediction)\n",
    "    return model_r2, calc_RMSE_score(prediction, y_validation)"
   ]
  },
  {
   "cell_type": "code",
   "execution_count": null,
   "metadata": {},
   "outputs": [],
   "source": [
    "def create_score_for_models(models, X_train, y_train, X_validation, y_validation):\n",
    "    score_of_models = {}\n",
    "    for name, model in models.items():\n",
    "        models_r2_score, models_RMSE_score = train_predict_get_score(model, X_train, y_train, X_validation, y_validation)\n",
    "        score_of_models[name] = {'r2 score': models_r2_score, 'RMSE score': models_RMSE_score}\n",
    "    return score_of_models"
   ]
  },
  {
   "cell_type": "code",
   "execution_count": null,
   "metadata": {},
   "outputs": [],
   "source": [
    "score_train_predict_data_equal = create_score_for_models(models, X_train, y_train, X_train, y_train)\n",
    "print(score_train_predict_data_equal)\n",
    "score_on_validation_data = create_score_for_models(models, X_train, y_train, X_validation, y_validation)\n",
    "print(score_on_validation_data)"
   ]
  },
  {
   "cell_type": "code",
   "execution_count": null,
   "metadata": {},
   "outputs": [],
   "source": []
  },
  {
   "cell_type": "code",
   "execution_count": null,
   "metadata": {},
   "outputs": [],
   "source": [
    "def run_knn(n_neighbors, X_train, y_train, X_validation, y_validation):\n",
    "    score_on_train = {}\n",
    "    score_on_validation = {}\n",
    "\n",
    "    for i, weights in enumerate(['uniform', 'distance']):\n",
    "        nn_model = KNeighborsRegressor(n_neighbors, weights = weights, p=1)\n",
    "        nn_model.fit(X_train, y_train)\n",
    "        train_prediction = nn_model.predict(X_train)\n",
    "        score_on_train[weights] = r2_score(y_train, train_prediction)\n",
    "\n",
    "        nn_prediction = nn_model.predict(X_validation)\n",
    "        score_on_validation[weights] = np.sqrt(mean_squared_log_error(y_validation, nn_prediction, sample_weight=None, multioutput='uniform_average'))#r2_score(y_validation, nn_prediction)\n",
    "    return score_on_validation, nn_prediction"
   ]
  },
  {
   "cell_type": "code",
   "execution_count": null,
   "metadata": {},
   "outputs": [],
   "source": [
    "knn_r2 = pd.DataFrame(columns = ['no_of_neighbours', 'r2'])\n",
    "for n_neighbors in range(1,21):\n",
    "    score, prediction = run_knn(n_neighbors, X_train, y_train, X_validation, y_validation)\n",
    "    result = pd.DataFrame([[n_neighbors, score['distance']]],\n",
    "                    columns = ['no_of_neighbours', 'r2'])\n",
    "    knn_r2 = knn_r2.append(result)\n",
    "\n",
    "f, ax = plt.subplots(figsize=(10, 8))\n",
    "ax.plot(knn_r2['no_of_neighbours'], knn_r2['r2'], '-bo')\n",
    "ax.grid(True)"
   ]
  },
  {
   "cell_type": "code",
   "execution_count": null,
   "metadata": {},
   "outputs": [],
   "source": [
    "n_neighbors = 14\n",
    "nn_regression_r2, nn_regression_prediction = run_knn(n_neighbors, X_train, y_train, X_validation, y_validation)\n",
    "print(np.sqrt(mean_squared_log_error(y_validation, nn_regression_prediction, sample_weight=None, multioutput='uniform_average')))"
   ]
  },
  {
   "cell_type": "code",
   "execution_count": null,
   "metadata": {},
   "outputs": [],
   "source": []
  }
 ],
 "metadata": {
  "kernelspec": {
   "display_name": "Python 3",
   "language": "python",
   "name": "python3"
  },
  "language_info": {
   "codemirror_mode": {
    "name": "ipython",
    "version": 3
   },
   "file_extension": ".py",
   "mimetype": "text/x-python",
   "name": "python",
   "nbconvert_exporter": "python",
   "pygments_lexer": "ipython3",
   "version": "3.6.5"
  }
 },
 "nbformat": 4,
 "nbformat_minor": 2
}
