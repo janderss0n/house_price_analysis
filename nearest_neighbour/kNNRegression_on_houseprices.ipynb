{
 "cells": [
  {
   "cell_type": "markdown",
   "metadata": {},
   "source": [
    "K Nearest Neighbour Regressor as model for predicting house prices.\n",
    "Following implementaion example of sklearn KNeighborsRegressor from http://scikit-learn.org/stable/auto_examples/neighbors/plot_regression.html"
   ]
  },
  {
   "cell_type": "code",
   "execution_count": 87,
   "metadata": {},
   "outputs": [],
   "source": [
    "import pandas as pd\n",
    "import numpy as np\n",
    "from sklearn.neighbors import KNeighborsRegressor\n",
    "from sklearn.metrics import r2_score\n",
    "from sklearn.model_selection import cross_val_score"
   ]
  },
  {
   "cell_type": "code",
   "execution_count": 88,
   "metadata": {
    "collapsed": true
   },
   "outputs": [],
   "source": [
    "def extend_and_one_hot_encode_categorical_column(df, column_name, unique_values):\n",
    "    for categorical_value in unique_values:\n",
    "        df[categorical_value] = 0\n",
    "        df.loc[df.loc[:, column_name] == categorical_value, categorical_value] = 1\n",
    "    return df"
   ]
  },
  {
   "cell_type": "code",
   "execution_count": 89,
   "metadata": {
    "collapsed": true
   },
   "outputs": [],
   "source": [
    "data = pd.read_csv('../data/train.csv', delimiter=',').drop(['Id'], axis=1)\n",
    "categorical_columns = data.select_dtypes(exclude = ['number']).columns\n",
    "\n",
    "for column_name in categorical_columns:\n",
    "    unique_values = data.loc[:, column_name].unique()\n",
    "    data = extend_and_one_hot_encode_categorical_column(data, column_name, unique_values)\n",
    "\n",
    "data = data.drop(categorical_columns, axis = 1)"
   ]
  },
  {
   "cell_type": "code",
   "execution_count": 90,
   "metadata": {
    "collapsed": true
   },
   "outputs": [],
   "source": [
    "data = data.fillna(0)"
   ]
  },
  {
   "cell_type": "code",
   "execution_count": 91,
   "metadata": {
    "collapsed": true
   },
   "outputs": [],
   "source": [
    "number_of_samples = data.shape[0]\n",
    "train_data = data.iloc[0:int(number_of_samples*0.6), :]\n",
    "validation_data = data.iloc[int(number_of_samples*0.6):int(number_of_samples*0.8), :]\n",
    "test_data = data.iloc[int(number_of_samples*0.8):, :]\n",
    "\n",
    "X_train = train_data.drop(['SalePrice'], axis=1)\n",
    "y_train = train_data.loc[:, 'SalePrice']\n",
    "X_validation = validation_data.drop(['SalePrice'], axis=1)\n",
    "y_validation = validation_data.loc[:, 'SalePrice']\n",
    "X_test = test_data.drop(['SalePrice'], axis=1)\n",
    "y_test = test_data.loc[:, 'SalePrice']"
   ]
  },
  {
   "cell_type": "code",
   "execution_count": 92,
   "metadata": {},
   "outputs": [],
   "source": [
    "n_neighbors = 4\n",
    "score = {}\n",
    "for i, weights in enumerate(['uniform', 'distance']):\n",
    "    knn = KNeighborsRegressor(n_neighbors, weights = weights)\n",
    "    model = knn.fit(X_train, y_train)\n",
    "    validation_prediction = model.predict(X_validation)\n",
    "    score[i] = [weights, r2_score(y_validation, validation_prediction)]"
   ]
  },
  {
   "cell_type": "code",
   "execution_count": 93,
   "metadata": {},
   "outputs": [
    {
     "name": "stdout",
     "output_type": "stream",
     "text": [
      "r2 score is  {0: ['uniform', 0.68857788940356834], 1: ['distance', 0.68923929337664158]}\n"
     ]
    }
   ],
   "source": [
    "print('r2 score is ', score)"
   ]
  },
  {
   "cell_type": "code",
   "execution_count": null,
   "metadata": {
    "collapsed": true
   },
   "outputs": [],
   "source": []
  }
 ],
 "metadata": {
  "kernelspec": {
   "display_name": "Python 3",
   "language": "python",
   "name": "python3"
  },
  "language_info": {
   "codemirror_mode": {
    "name": "ipython",
    "version": 3
   },
   "file_extension": ".py",
   "mimetype": "text/x-python",
   "name": "python",
   "nbconvert_exporter": "python",
   "pygments_lexer": "ipython3",
   "version": "3.6.2"
  }
 },
 "nbformat": 4,
 "nbformat_minor": 2
}
