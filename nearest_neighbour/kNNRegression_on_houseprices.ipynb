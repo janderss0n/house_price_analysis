{
 "cells": [
  {
   "cell_type": "markdown",
   "metadata": {},
   "source": [
    "K Nearest Neighbour Regressor as model for predicting house prices.\n",
    "Following implementaion example of sklearn KNeighborsRegressor from http://scikit-learn.org/stable/auto_examples/neighbors/plot_regression.html"
   ]
  },
  {
   "cell_type": "code",
   "execution_count": 1,
   "metadata": {
    "collapsed": true
   },
   "outputs": [],
   "source": [
    "import pandas as pd\n",
    "import numpy as np\n",
    "from sklearn.neighbors import KNeighborsRegressor\n",
    "from sklearn.metrics import r2_score\n",
    "from sklearn.model_selection import cross_val_score"
   ]
  },
  {
   "cell_type": "code",
   "execution_count": 2,
   "metadata": {
    "collapsed": true
   },
   "outputs": [],
   "source": [
    "def extend_and_one_hot_encode_categorical_column(df, column_name, unique_values):\n",
    "    for categorical_value in unique_values:\n",
    "        df[categorical_value] = 0\n",
    "        df.loc[df.loc[:, column_name] == categorical_value, categorical_value] = 1\n",
    "    return df"
   ]
  },
  {
   "cell_type": "code",
   "execution_count": 3,
   "metadata": {
    "collapsed": true
   },
   "outputs": [],
   "source": [
    "data = pd.read_csv('../data/train.csv', delimiter=',').drop(['Id'], axis=1)\n",
    "categorical_columns = data.select_dtypes(exclude = ['number']).columns\n",
    "\n",
    "for column_name in categorical_columns:\n",
    "    unique_values = data.loc[:, column_name].unique()\n",
    "    data = extend_and_one_hot_encode_categorical_column(data, column_name, unique_values)\n",
    "\n",
    "data = data.drop(categorical_columns, axis = 1)"
   ]
  },
  {
   "cell_type": "code",
   "execution_count": 4,
   "metadata": {
    "collapsed": true
   },
   "outputs": [],
   "source": [
    "data = data.fillna(0)"
   ]
  },
  {
   "cell_type": "code",
   "execution_count": 5,
   "metadata": {
    "collapsed": true
   },
   "outputs": [],
   "source": [
    "number_of_samples = data.shape[0]\n",
    "train_data = data.iloc[0:int(number_of_samples*0.6), :]\n",
    "validation_data = data.iloc[int(number_of_samples*0.6):int(number_of_samples*0.8), :]\n",
    "test_data = data.iloc[int(number_of_samples*0.8):, :]\n",
    "\n",
    "X_train = train_data.drop(['SalePrice'], axis=1)\n",
    "y_train = train_data.loc[:, 'SalePrice']\n",
    "X_validation = validation_data.drop(['SalePrice'], axis=1)\n",
    "y_validation = validation_data.loc[:, 'SalePrice']\n",
    "X_test = test_data.drop(['SalePrice'], axis=1)\n",
    "y_test = test_data.loc[:, 'SalePrice']"
   ]
  },
  {
   "cell_type": "code",
   "execution_count": 6,
   "metadata": {
    "collapsed": true
   },
   "outputs": [],
   "source": [
    "n_neighbors = 4\n",
    "score_on_train = {}\n",
    "score_on_validation = {}\n",
    "cv_scores = {}\n",
    "for i, weights in enumerate(['uniform', 'distance']):\n",
    "    knn = KNeighborsRegressor(n_neighbors, weights = weights, p=1)\n",
    "    model = knn.fit(X_train, y_train)\n",
    "    \n",
    "    train_prediction = model.predict(X_train)\n",
    "    score_on_train[i] = [weights, r2_score(y_train, train_prediction)]\n",
    "    \n",
    "    cv_scores[i] = [weights, cross_val_score(knn, X_train, y_train, cv=10).mean()]\n",
    "    \n",
    "    validation_prediction = model.predict(X_validation)\n",
    "    score_on_validation[i] = [weights, r2_score(y_validation, validation_prediction)]    "
   ]
  },
  {
   "cell_type": "code",
   "execution_count": 7,
   "metadata": {},
   "outputs": [
    {
     "name": "stdout",
     "output_type": "stream",
     "text": [
      "r2 score on training is  {0: ['uniform', 0.83897441637815739], 1: ['distance', 1.0]}\n",
      "CV score on training is  {0: ['uniform', 0.71468081641994063], 1: ['distance', 0.72335948224592628]}\n",
      "r2 score on validation is  {0: ['uniform', 0.71546307364249739], 1: ['distance', 0.71738100748415201]}\n"
     ]
    }
   ],
   "source": [
    "print('r2 score on training is ', score_on_train)\n",
    "print('CV score on training is ', cv_scores)\n",
    "print('r2 score on validation is ', score_on_validation)"
   ]
  },
  {
   "cell_type": "code",
   "execution_count": null,
   "metadata": {
    "collapsed": true
   },
   "outputs": [],
   "source": []
  }
 ],
 "metadata": {
  "kernelspec": {
   "display_name": "Python 3",
   "language": "python",
   "name": "python3"
  },
  "language_info": {
   "codemirror_mode": {
    "name": "ipython",
    "version": 3
   },
   "file_extension": ".py",
   "mimetype": "text/x-python",
   "name": "python",
   "nbconvert_exporter": "python",
   "pygments_lexer": "ipython3",
   "version": "3.6.5"
  }
 },
 "nbformat": 4,
 "nbformat_minor": 2
}
